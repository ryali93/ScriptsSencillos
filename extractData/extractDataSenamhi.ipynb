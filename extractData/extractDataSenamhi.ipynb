{
  "nbformat": 4,
  "nbformat_minor": 0,
  "metadata": {
    "colab": {
      "name": "extractDataSenamhi.ipynb",
      "provenance": [],
      "collapsed_sections": [],
      "include_colab_link": true
    },
    "kernelspec": {
      "name": "python3",
      "display_name": "Python 3"
    }
  },
  "cells": [
    {
      "cell_type": "markdown",
      "metadata": {
        "id": "view-in-github",
        "colab_type": "text"
      },
      "source": [
        "<a href=\"https://colab.research.google.com/github/ryali93/utilitarios/blob/master/extractData/extractDataSenamhi.ipynb\" target=\"_parent\"><img src=\"https://colab.research.google.com/assets/colab-badge.svg\" alt=\"Open In Colab\"/></a>"
      ]
    },
    {
      "cell_type": "markdown",
      "metadata": {
        "id": "4z6ZLFvWe3Ry",
        "colab_type": "text"
      },
      "source": [
        "## Descargar data de la pagina de SENAMHI\n",
        "\n",
        "La ruta de la que se descarga es la siguiente:\n",
        "\n",
        "https://www.senamhi.gob.pe/?&p=estaciones\n",
        "\n",
        "Además, se está usando como referencia el archivo JSON\n",
        "\n",
        "https://raw.githubusercontent.com/ryali93/UNMSM_programacion/master/data/estaciones.json\n"
      ]
    },
    {
      "cell_type": "code",
      "metadata": {
        "id": "a2Pvau2jb6fV",
        "colab_type": "code",
        "colab": {}
      },
      "source": [
        "import requests\n",
        "from bs4 import BeautifulSoup\n",
        "import pandas as pd"
      ],
      "execution_count": 0,
      "outputs": []
    },
    {
      "cell_type": "code",
      "metadata": {
        "id": "SklsSwHnhNHL",
        "colab_type": "code",
        "colab": {}
      },
      "source": [
        "def extraeDataSenamhi(code_estation, year_month, type_est, estado):\n",
        "    url = \"https://www.senamhi.gob.pe/mapas/mapa-estaciones-2/_dato_esta_tipo02.php\"\n",
        "    new_url = \"{}?estaciones={}&CBOFiltro={}&t_e={}&estado={}\".format(url,\n",
        "                                                                     code_estation,\n",
        "                                                                     year_month,\n",
        "                                                                     type_est,\n",
        "                                                                     estado)\n",
        "    s = requests.get(new_url)\n",
        "    html = s.text\n",
        "    soup = BeautifulSoup(html, 'html.parser')\n",
        "    tables = [\n",
        "        [\n",
        "            [td.get_text(strip=True) for td in tr.find_all('td')] \n",
        "            for tr in table.find_all('tr')\n",
        "        ] \n",
        "        for table in soup.find_all('table')\n",
        "    ]\n",
        "    \n",
        "    if len(tables[1][0]) != len(tables[1][1]):\n",
        "      tables[1][0].insert(1, \"TEMP_MIN\")\n",
        "      tables[1][0][2] = \"TEMP_MAX\"\n",
        "      df = pd.DataFrame(tables[1][2:], columns=tables[1][0])\n",
        "    else:\n",
        "      df = pd.DataFrame(tables[1][1:], columns=tables[1][0])\n",
        "    return df"
      ],
      "execution_count": 0,
      "outputs": []
    },
    {
      "cell_type": "code",
      "metadata": {
        "id": "YKzw6R-DTY8r",
        "colab_type": "code",
        "colab": {}
      },
      "source": [
        "def main(code_estation, year_month, type_est, estado):\n",
        "    ldates = [str(y) + str(x).zfill(2) for x in range(1,13) for y in range(year_month[0], year_month[1])]\n",
        "    ldates.sort()\n",
        "    data = []\n",
        "    for l in ldates:\n",
        "        print(l)\n",
        "        try:\n",
        "            df = extraeDataSenamhi(code_estation, l, type_est, estado)\n",
        "            if type(data) == list:\n",
        "                data = pd.DataFrame({}, columns = list(df.columns))\n",
        "            else:\n",
        "                data = data.append(df)\n",
        "            print(l)\n",
        "        except:\n",
        "            pass\n",
        "    return data"
      ],
      "execution_count": 0,
      "outputs": []
    },
    {
      "cell_type": "markdown",
      "metadata": {
        "id": "WibHVPh8fcq2",
        "colab_type": "text"
      },
      "source": [
        "Es necesario cambiar los datos del código que se encuentra debajo por lo siguiente:\n",
        "\n",
        "***main(CODIGO, [AÑO_INI, AÑO_FIN], TIPO, ESTADO)***\n",
        "\n"
      ]
    },
    {
      "cell_type": "code",
      "metadata": {
        "id": "8rm1w1SndD1q",
        "colab_type": "code",
        "colab": {}
      },
      "source": [
        "# Esta es la función importante\n",
        "df = main(\"104080\", [2017, 2020], \"M\", \"REAL\")\n",
        "df\n",
        "# Si se requiere exportar a csv\n",
        "# df.to_csv ('4724851A.csv', index = None, header=True)\n",
        "# df"
      ],
      "execution_count": 0,
      "outputs": []
    },
    {
      "cell_type": "markdown",
      "metadata": {
        "id": "Qg7VIMF6f0ky",
        "colab_type": "text"
      },
      "source": [
        "Si se desea ver los datos de las estaciones, usar el código a continuación"
      ]
    },
    {
      "cell_type": "code",
      "metadata": {
        "id": "nAJ6S4UnfU3N",
        "colab_type": "code",
        "colab": {}
      },
      "source": [
        "import json\n",
        "import requests \n",
        "\n",
        "s = requests.get('https://raw.githubusercontent.com/ryali93/UNMSM_programacion/master/data/estaciones.json')\n",
        "estaciones = s.text\n",
        "\n",
        "data = json.loads(estaciones)\n",
        "data[\"estaciones\"]"
      ],
      "execution_count": 0,
      "outputs": []
    }
  ]
}