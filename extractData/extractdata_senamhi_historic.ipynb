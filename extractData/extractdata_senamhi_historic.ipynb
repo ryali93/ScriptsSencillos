{
  "nbformat": 4,
  "nbformat_minor": 0,
  "metadata": {
    "colab": {
      "name": "extractdata_senamhi_historic.ipynb",
      "provenance": [],
      "collapsed_sections": [],
      "include_colab_link": true
    },
    "kernelspec": {
      "name": "python3",
      "display_name": "Python 3"
    }
  },
  "cells": [
    {
      "cell_type": "markdown",
      "metadata": {
        "id": "view-in-github",
        "colab_type": "text"
      },
      "source": [
        "<a href=\"https://colab.research.google.com/github/ryali93/utilitarios/blob/master/extractData/extractdata_senamhi_historic.ipynb\" target=\"_parent\"><img src=\"https://colab.research.google.com/assets/colab-badge.svg\" alt=\"Open In Colab\"/></a>"
      ]
    },
    {
      "cell_type": "code",
      "metadata": {
        "colab_type": "code",
        "id": "X8Lxa3cTrUu0",
        "colab": {}
      },
      "source": [
        "e = open(\"est.json\", \"r\")\n",
        "data = e.read()\n",
        "e.close()\n",
        "\n",
        "import json\n",
        "est = json.loads(data)\n",
        "est"
      ],
      "execution_count": 0,
      "outputs": []
    },
    {
      "cell_type": "code",
      "metadata": {
        "colab_type": "code",
        "id": "s_gDLw3wrUoz",
        "colab": {}
      },
      "source": [
        "import pandas as pd"
      ],
      "execution_count": 0,
      "outputs": []
    },
    {
      "cell_type": "code",
      "metadata": {
        "id": "MqXqbgtBkEFZ",
        "colab_type": "code",
        "colab": {
          "base_uri": "https://localhost:8080/",
          "height": 272
        },
        "outputId": "9f0d1dc0-2197-4d19-edf8-031001244ee8"
      },
      "source": [
        "estaciones = pd.DataFrame(est)\n",
        "estaciones.head("
      ],
      "execution_count": 4,
      "outputs": [
        {
          "output_type": "execute_result",
          "data": {
            "text/html": [
              "<div>\n",
              "<style scoped>\n",
              "    .dataframe tbody tr th:only-of-type {\n",
              "        vertical-align: middle;\n",
              "    }\n",
              "\n",
              "    .dataframe tbody tr th {\n",
              "        vertical-align: top;\n",
              "    }\n",
              "\n",
              "    .dataframe thead th {\n",
              "        text-align: right;\n",
              "    }\n",
              "</style>\n",
              "<table border=\"1\" class=\"dataframe\">\n",
              "  <thead>\n",
              "    <tr style=\"text-align: right;\">\n",
              "      <th></th>\n",
              "      <th>a</th>\n",
              "      <th>b</th>\n",
              "      <th>c</th>\n",
              "      <th>codigo</th>\n",
              "      <th>d</th>\n",
              "      <th>e</th>\n",
              "      <th>f</th>\n",
              "      <th>h</th>\n",
              "      <th>i</th>\n",
              "      <th>j</th>\n",
              "      <th>k</th>\n",
              "      <th>l</th>\n",
              "      <th>latlng</th>\n",
              "      <th>m</th>\n",
              "      <th>n</th>\n",
              "      <th>name</th>\n",
              "      <th>o</th>\n",
              "      <th>p</th>\n",
              "      <th>r</th>\n",
              "      <th>s</th>\n",
              "      <th>t</th>\n",
              "      <th>u</th>\n",
              "      <th>v</th>\n",
              "      <th>w</th>\n",
              "      <th>x</th>\n",
              "      <th>y</th>\n",
              "    </tr>\n",
              "  </thead>\n",
              "  <tbody>\n",
              "    <tr>\n",
              "      <th>0</th>\n",
              "      <td>1</td>\n",
              "      <td>0</td>\n",
              "      <td>0</td>\n",
              "      <td>152204</td>\n",
              "      <td>0</td>\n",
              "      <td>0</td>\n",
              "      <td>0</td>\n",
              "      <td>0</td>\n",
              "      <td>0</td>\n",
              "      <td>0</td>\n",
              "      <td>0</td>\n",
              "      <td>0</td>\n",
              "      <td>[-5.75619, -78.52306]</td>\n",
              "      <td>0</td>\n",
              "      <td>0</td>\n",
              "      <td>EL PINTOR</td>\n",
              "      <td>0</td>\n",
              "      <td>0</td>\n",
              "      <td>0</td>\n",
              "      <td>0</td>\n",
              "      <td>0</td>\n",
              "      <td>0</td>\n",
              "      <td>0</td>\n",
              "      <td>0</td>\n",
              "      <td>0</td>\n",
              "      <td>0</td>\n",
              "    </tr>\n",
              "    <tr>\n",
              "      <th>1</th>\n",
              "      <td>1</td>\n",
              "      <td>0</td>\n",
              "      <td>0</td>\n",
              "      <td>152210</td>\n",
              "      <td>0</td>\n",
              "      <td>0</td>\n",
              "      <td>0</td>\n",
              "      <td>0</td>\n",
              "      <td>0</td>\n",
              "      <td>0</td>\n",
              "      <td>0</td>\n",
              "      <td>0</td>\n",
              "      <td>[-5.89106, -78.18886]</td>\n",
              "      <td>0</td>\n",
              "      <td>0</td>\n",
              "      <td>MAGUNCHAL</td>\n",
              "      <td>0</td>\n",
              "      <td>0</td>\n",
              "      <td>0</td>\n",
              "      <td>0</td>\n",
              "      <td>0</td>\n",
              "      <td>0</td>\n",
              "      <td>0</td>\n",
              "      <td>0</td>\n",
              "      <td>0</td>\n",
              "      <td>0</td>\n",
              "    </tr>\n",
              "    <tr>\n",
              "      <th>2</th>\n",
              "      <td>0</td>\n",
              "      <td>1</td>\n",
              "      <td>0</td>\n",
              "      <td>155105</td>\n",
              "      <td>0</td>\n",
              "      <td>0</td>\n",
              "      <td>0</td>\n",
              "      <td>0</td>\n",
              "      <td>0</td>\n",
              "      <td>0</td>\n",
              "      <td>0</td>\n",
              "      <td>0</td>\n",
              "      <td>[-10.4, -77.4]</td>\n",
              "      <td>0</td>\n",
              "      <td>0</td>\n",
              "      <td>OCROS</td>\n",
              "      <td>0</td>\n",
              "      <td>0</td>\n",
              "      <td>0</td>\n",
              "      <td>0</td>\n",
              "      <td>0</td>\n",
              "      <td>0</td>\n",
              "      <td>0</td>\n",
              "      <td>0</td>\n",
              "      <td>0</td>\n",
              "      <td>0</td>\n",
              "    </tr>\n",
              "    <tr>\n",
              "      <th>3</th>\n",
              "      <td>0</td>\n",
              "      <td>1</td>\n",
              "      <td>0</td>\n",
              "      <td>000441</td>\n",
              "      <td>0</td>\n",
              "      <td>0</td>\n",
              "      <td>0</td>\n",
              "      <td>0</td>\n",
              "      <td>0</td>\n",
              "      <td>0</td>\n",
              "      <td>0</td>\n",
              "      <td>0</td>\n",
              "      <td>[-9.72919, -77.45365]</td>\n",
              "      <td>0</td>\n",
              "      <td>0</td>\n",
              "      <td>RECUAY</td>\n",
              "      <td>0</td>\n",
              "      <td>0</td>\n",
              "      <td>0</td>\n",
              "      <td>0</td>\n",
              "      <td>0</td>\n",
              "      <td>0</td>\n",
              "      <td>0</td>\n",
              "      <td>0</td>\n",
              "      <td>0</td>\n",
              "      <td>0</td>\n",
              "    </tr>\n",
              "    <tr>\n",
              "      <th>4</th>\n",
              "      <td>0</td>\n",
              "      <td>1</td>\n",
              "      <td>0</td>\n",
              "      <td>150903</td>\n",
              "      <td>0</td>\n",
              "      <td>0</td>\n",
              "      <td>0</td>\n",
              "      <td>0</td>\n",
              "      <td>0</td>\n",
              "      <td>0</td>\n",
              "      <td>0</td>\n",
              "      <td>0</td>\n",
              "      <td>[-10.15775, -77.43222]</td>\n",
              "      <td>0</td>\n",
              "      <td>0</td>\n",
              "      <td>MAYORARCA</td>\n",
              "      <td>0</td>\n",
              "      <td>0</td>\n",
              "      <td>0</td>\n",
              "      <td>0</td>\n",
              "      <td>0</td>\n",
              "      <td>0</td>\n",
              "      <td>0</td>\n",
              "      <td>0</td>\n",
              "      <td>0</td>\n",
              "      <td>0</td>\n",
              "    </tr>\n",
              "  </tbody>\n",
              "</table>\n",
              "</div>"
            ],
            "text/plain": [
              "   a  b  c  codigo  d  e  f  h  i  j  ...  o  p  r  s  t  u  v  w  x  y\n",
              "0  1  0  0  152204  0  0  0  0  0  0  ...  0  0  0  0  0  0  0  0  0  0\n",
              "1  1  0  0  152210  0  0  0  0  0  0  ...  0  0  0  0  0  0  0  0  0  0\n",
              "2  0  1  0  155105  0  0  0  0  0  0  ...  0  0  0  0  0  0  0  0  0  0\n",
              "3  0  1  0  000441  0  0  0  0  0  0  ...  0  0  0  0  0  0  0  0  0  0\n",
              "4  0  1  0  150903  0  0  0  0  0  0  ...  0  0  0  0  0  0  0  0  0  0\n",
              "\n",
              "[5 rows x 26 columns]"
            ]
          },
          "metadata": {
            "tags": []
          },
          "execution_count": 4
        }
      ]
    },
    {
      "cell_type": "code",
      "metadata": {
        "id": "Dn1c_9T1nT-f",
        "colab_type": "code",
        "colab": {}
      },
      "source": [
        ""
      ],
      "execution_count": 0,
      "outputs": []
    },
    {
      "cell_type": "code",
      "metadata": {
        "id": "rbcqzYQZnT1p",
        "colab_type": "code",
        "colab": {}
      },
      "source": [
        "import requests\n",
        "from bs4 import BeautifulSoup"
      ],
      "execution_count": 0,
      "outputs": []
    },
    {
      "cell_type": "code",
      "metadata": {
        "id": "DK6r5fhmneSE",
        "colab_type": "code",
        "colab": {}
      },
      "source": [
        "response = requests.get(\"https://web2.senamhi.gob.pe/descarga/?cod=154111\")\n",
        "soup = BeautifulSoup(response.text, \"html.parser\")"
      ],
      "execution_count": 0,
      "outputs": []
    },
    {
      "cell_type": "code",
      "metadata": {
        "id": "haNDcj4do6qQ",
        "colab_type": "code",
        "colab": {}
      },
      "source": [
        "import re\n",
        "lista = []\n",
        "for s in soup.find_all('script', {\"type\":\"text/javascript\"}):\n",
        "    lista.append(s.text)\n",
        "\n",
        "m = lista[1].replace(\"\\n\", \"\").replace(\"\\r\", \"\").replace(\"\\t\", \"\").replace(\"null\", \"None\")\n",
        "m"
      ],
      "execution_count": 0,
      "outputs": []
    },
    {
      "cell_type": "code",
      "metadata": {
        "id": "-3jLGN60qKnQ",
        "colab_type": "code",
        "colab": {}
      },
      "source": [
        "\n",
        "datos = re.findall(\"\\[.*?]\", m)\n",
        "t = [d for d in datos if len(d)>100]\n",
        "t"
      ],
      "execution_count": 0,
      "outputs": []
    },
    {
      "cell_type": "code",
      "metadata": {
        "id": "n2_ICkWWerGW",
        "colab_type": "code",
        "colab": {}
      },
      "source": [
        "# Fechas\n",
        "d = re.findall(\"(categories: \\[.*?])\", t[0])[0]\n",
        "d = d.split(\":\")[1][2:-2]\n",
        "fechas_lista = [int(f) for f in d.replace(\"'\", \"\").split(\",\")]\n",
        "fechas_lista"
      ],
      "execution_count": 0,
      "outputs": []
    },
    {
      "cell_type": "code",
      "metadata": {
        "id": "Wtb85-vQgc3C",
        "colab_type": "code",
        "colab": {}
      },
      "source": [
        "# Precipitacion\n",
        "p = re.findall(\"(data: \\[.*?])\", t[1])[0]\n",
        "p = p.split(\":\")[1][2:-2]\n",
        "\n",
        "pp_lista = []\n",
        "for pp in p.split(\",\"):\n",
        "  if pp == \"None\":\n",
        "    pp_lista.append(None)\n",
        "  else:\n",
        "    pp_lista.append(float(pp))"
      ],
      "execution_count": 0,
      "outputs": []
    },
    {
      "cell_type": "code",
      "metadata": {
        "id": "4JVMIpJxvS-7",
        "colab_type": "code",
        "colab": {}
      },
      "source": [
        "# Temp Max\n",
        "temp = t[2][1:-2]\n",
        "temp_max_lista = []\n",
        "for temp in temp.split(\",\"):\n",
        "  if temp == \"None\":\n",
        "    temp_max_lista.append(None)\n",
        "  else:\n",
        "    temp_max_lista.append(float(temp))"
      ],
      "execution_count": 0,
      "outputs": []
    },
    {
      "cell_type": "code",
      "metadata": {
        "id": "1ir3X5LCwGnn",
        "colab_type": "code",
        "colab": {}
      },
      "source": [
        "# Temp Min\n",
        "temp = t[3][1:-2]\n",
        "temp_min_lista = []\n",
        "for temp in temp.split(\",\"):\n",
        "  if temp == \"None\":\n",
        "    temp_min_lista.append(None)\n",
        "  else:\n",
        "    temp_min_lista.append(float(temp))"
      ],
      "execution_count": 0,
      "outputs": []
    },
    {
      "cell_type": "code",
      "metadata": {
        "id": "XhOd3MYku1wM",
        "colab_type": "code",
        "colab": {}
      },
      "source": [
        "dicc = {\n",
        "    \"fechas\": fechas_lista,\n",
        "    \"pp\": pp_lista,\n",
        "    \"temp_max\": temp_max_lista,\n",
        "    \"temp_min\": temp_min_lista,\n",
        "}"
      ],
      "execution_count": 0,
      "outputs": []
    },
    {
      "cell_type": "code",
      "metadata": {
        "id": "ArjKfZjnu9cA",
        "colab_type": "code",
        "colab": {}
      },
      "source": [
        "import pandas as pd"
      ],
      "execution_count": 0,
      "outputs": []
    },
    {
      "cell_type": "code",
      "metadata": {
        "id": "bCGaBTk4u_JE",
        "colab_type": "code",
        "colab": {
          "base_uri": "https://localhost:8080/",
          "height": 204
        },
        "outputId": "1126bbf8-4cb1-4ecc-d7ce-8738d7d76a4c"
      },
      "source": [
        "df = pd.DataFrame(dicc)\n",
        "df.head()"
      ],
      "execution_count": 145,
      "outputs": [
        {
          "output_type": "execute_result",
          "data": {
            "text/html": [
              "<div>\n",
              "<style scoped>\n",
              "    .dataframe tbody tr th:only-of-type {\n",
              "        vertical-align: middle;\n",
              "    }\n",
              "\n",
              "    .dataframe tbody tr th {\n",
              "        vertical-align: top;\n",
              "    }\n",
              "\n",
              "    .dataframe thead th {\n",
              "        text-align: right;\n",
              "    }\n",
              "</style>\n",
              "<table border=\"1\" class=\"dataframe\">\n",
              "  <thead>\n",
              "    <tr style=\"text-align: right;\">\n",
              "      <th></th>\n",
              "      <th>fechas</th>\n",
              "      <th>pp</th>\n",
              "      <th>temp_max</th>\n",
              "      <th>temp_min</th>\n",
              "    </tr>\n",
              "  </thead>\n",
              "  <tbody>\n",
              "    <tr>\n",
              "      <th>18531</th>\n",
              "      <td>2014</td>\n",
              "      <td>0.0</td>\n",
              "      <td>24.6</td>\n",
              "      <td>7.9</td>\n",
              "    </tr>\n",
              "    <tr>\n",
              "      <th>18532</th>\n",
              "      <td>2014</td>\n",
              "      <td>0.0</td>\n",
              "      <td>26.4</td>\n",
              "      <td>10.8</td>\n",
              "    </tr>\n",
              "    <tr>\n",
              "      <th>18533</th>\n",
              "      <td>2014</td>\n",
              "      <td>0.0</td>\n",
              "      <td>27.0</td>\n",
              "      <td>9.1</td>\n",
              "    </tr>\n",
              "    <tr>\n",
              "      <th>18534</th>\n",
              "      <td>2014</td>\n",
              "      <td>0.0</td>\n",
              "      <td>25.3</td>\n",
              "      <td>7.4</td>\n",
              "    </tr>\n",
              "    <tr>\n",
              "      <th>18535</th>\n",
              "      <td>2014</td>\n",
              "      <td>0.0</td>\n",
              "      <td>28.0</td>\n",
              "      <td>6.9</td>\n",
              "    </tr>\n",
              "  </tbody>\n",
              "</table>\n",
              "</div>"
            ],
            "text/plain": [
              "       fechas   pp  temp_max  temp_min\n",
              "18531    2014  0.0      24.6       7.9\n",
              "18532    2014  0.0      26.4      10.8\n",
              "18533    2014  0.0      27.0       9.1\n",
              "18534    2014  0.0      25.3       7.4\n",
              "18535    2014  0.0      28.0       6.9"
            ]
          },
          "metadata": {
            "tags": []
          },
          "execution_count": 145
        }
      ]
    },
    {
      "cell_type": "code",
      "metadata": {
        "id": "ElmR3uPCxGab",
        "colab_type": "code",
        "colab": {
          "base_uri": "https://localhost:8080/",
          "height": 935
        },
        "outputId": "5d0fffa8-f8d0-4af5-bede-2849548a4f9b"
      },
      "source": [
        "df.groupby([\"fechas\"])[\"fechas\"].count()"
      ],
      "execution_count": 154,
      "outputs": [
        {
          "output_type": "execute_result",
          "data": {
            "text/plain": [
              "fechas\n",
              "1963     61\n",
              "1964    366\n",
              "1965    365\n",
              "1966    365\n",
              "1967    365\n",
              "1968    366\n",
              "1969    365\n",
              "1970    365\n",
              "1971    365\n",
              "1972    366\n",
              "1973    365\n",
              "1974    365\n",
              "1975    365\n",
              "1976    366\n",
              "1977    365\n",
              "1978    365\n",
              "1979    365\n",
              "1980    366\n",
              "1981    365\n",
              "1982    365\n",
              "1983    365\n",
              "1984    366\n",
              "1985    365\n",
              "1986    365\n",
              "1987    365\n",
              "1988    366\n",
              "1989    365\n",
              "1990    365\n",
              "1991    365\n",
              "1992    366\n",
              "1993    365\n",
              "1994    365\n",
              "1995    365\n",
              "1996    366\n",
              "1997    365\n",
              "1998    365\n",
              "1999    365\n",
              "2000    366\n",
              "2001    365\n",
              "2002    365\n",
              "2003    365\n",
              "2004    366\n",
              "2005    365\n",
              "2006    365\n",
              "2007    365\n",
              "2008    366\n",
              "2009    365\n",
              "2010    365\n",
              "2011    365\n",
              "2012    366\n",
              "2013    365\n",
              "2014    212\n",
              "Name: fechas, dtype: int64"
            ]
          },
          "metadata": {
            "tags": []
          },
          "execution_count": 154
        }
      ]
    }
  ]
}